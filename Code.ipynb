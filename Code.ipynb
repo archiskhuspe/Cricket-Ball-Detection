{
 "cells": [
  {
   "cell_type": "code",
   "execution_count": null,
   "id": "140a6e80",
   "metadata": {},
   "outputs": [],
   "source": [
    "import cv2\n",
    "import numpy as np\n",
    "import imutils\n",
    "\n",
    "video = 'Video.mp4'\n",
    "\n",
    "cap = cv2.VideoCapture(video)\n",
    "cnt = 0\n",
    "\n",
    "if (cap.isOpened() == False):\n",
    "    print(\"Error opening video stream or file\")\n",
    "\n",
    "ret, first_frame = cap.read()\n",
    "\n",
    "while (cap.isOpened()):\n",
    "\n",
    "    ret, frame = cap.read()\n",
    "\n",
    "    if ret == True:\n",
    "\n",
    "        roi = frame[:800,:]\n",
    "    \n",
    "        thresh=600\n",
    "        end = roi.shape[1] - thresh\n",
    "        roi = roi[:,thresh:end]\n",
    "\n",
    "        cv2.imshow(\"Video\", roi)\n",
    "        if cv2.waitKey(25) & 0xFF == ord('q'):\n",
    "            break\n",
    "\n",
    "        cv2.imwrite('frames/'+str(cnt)+'.png', roi)\n",
    "        cnt = cnt+1\n",
    "\n",
    "    else:\n",
    "        break\n",
    "\n",
    "cv2.destroyAllWindows()"
   ]
  },
  {
   "cell_type": "code",
   "execution_count": null,
   "id": "d138448c",
   "metadata": {},
   "outputs": [],
   "source": [
    "import matplotlib.pyplot as plt\n",
    "import cv2\n",
    "import numpy as np\n",
    "import os\n",
    "import re\n",
    "\n",
    "frames = os.listdir('frames/')\n",
    "frames.sort(key=lambda f: int(re.sub('\\D', '', f)))\n",
    "\n",
    "images = []\n",
    "for i in frames:\n",
    "    img = cv2.imread('frames/'+i)\n",
    "    img = cv2.cvtColor(img, cv2.COLOR_BGR2GRAY)\n",
    "    img = cv2.GaussianBlur(img, (25, 25), 0)\n",
    "    images.append(img)\n",
    "\n",
    "images = np.array(images)"
   ]
  },
  {
   "cell_type": "code",
   "execution_count": null,
   "id": "d6624ba1",
   "metadata": {},
   "outputs": [],
   "source": [
    "nonzero = []\n",
    "for i in range((len(images)-1)):\n",
    "\n",
    "    mask = cv2.absdiff(images[i], images[i+1])\n",
    "    _, mask = cv2.threshold(mask, 50, 255, cv2.THRESH_BINARY)\n",
    "    num = np.count_nonzero((mask.ravel()))\n",
    "    nonzero.append(num)\n",
    "\n",
    "x = np.arange(0, len(images)-1)\n",
    "y = nonzero\n",
    "\n",
    "plt.figure(figsize=(20, 4))\n",
    "plt.scatter(x, y)"
   ]
  },
  {
   "cell_type": "code",
   "execution_count": null,
   "id": "fd5e7e05",
   "metadata": {},
   "outputs": [],
   "source": [
    "threshold = 60 * 10e3\n",
    "for i in range(len(images)-1):\n",
    "    if (nonzero[i] > threshold):\n",
    "        scene_change_idx = i\n",
    "        break\n",
    "\n",
    "frames = frames[:(i+1)]\n",
    "frames"
   ]
  },
  {
   "cell_type": "code",
   "execution_count": null,
   "id": "ac24a792",
   "metadata": {},
   "outputs": [],
   "source": [
    "img = cv2.imread('frames/' + frames[50])\n",
    "gray = cv2.cvtColor(img, cv2.COLOR_BGR2GRAY)\n",
    "gray = cv2.GaussianBlur(gray, (25, 25), 0)\n",
    "\n",
    "plt.figure(figsize=(5, 10))\n",
    "plt.imshow(gray, cmap='gray')"
   ]
  },
  {
   "cell_type": "code",
   "execution_count": null,
   "id": "31392000",
   "metadata": {},
   "outputs": [],
   "source": [
    "_, mask = cv2.threshold(gray, 200, 255, cv2.THRESH_BINARY)\n",
    "\n",
    "plt.figure(figsize=(5, 5))\n",
    "plt.imshow(mask, cmap='gray')"
   ]
  },
  {
   "cell_type": "code",
   "execution_count": null,
   "id": "8596e0d4",
   "metadata": {},
   "outputs": [],
   "source": [
    "contours, images = cv2.findContours(\n",
    "    mask, cv2.RETR_TREE, cv2.CHAIN_APPROX_SIMPLE)"
   ]
  },
  {
   "cell_type": "code",
   "execution_count": null,
   "id": "b00b6a80",
   "metadata": {},
   "outputs": [],
   "source": [
    "img_copy = np.copy(gray)\n",
    "cv2.drawContours(img_copy, contours, -1, (0,255,0), 3)\n",
    "\n",
    "plt.imshow(img_copy, cmap='gray')"
   ]
  },
  {
   "cell_type": "code",
   "execution_count": null,
   "id": "e476561b",
   "metadata": {},
   "outputs": [],
   "source": [
    "num = 20\n",
    "cnt = 0\n",
    "for i in range(len(contours)):\n",
    "    x, y, w, h = cv2.boundingRect(contours[i])\n",
    "\n",
    "    numer = min([w, h])\n",
    "    denom = max([w, h])\n",
    "    ratio = numer/denom\n",
    "\n",
    "    if (x >= num and y >= num):\n",
    "        xmin, ymin = x-num, y-num\n",
    "        xmax, ymax = x+w+num, y+h+num\n",
    "    else:\n",
    "        xmin, ymin = x, y\n",
    "        xmax, ymax = x+w, y+h\n",
    "\n",
    "    if (ratio >= 0.5 and ((w <= 10) and (h <= 10))):\n",
    "        print(cnt, x, y, w, h)\n",
    "        cv2.imwrite(\"patch/\"+str(cnt)+\".png\", img[ymin:ymax, xmin:xmax])\n",
    "        cnt = cnt+1"
   ]
  },
  {
   "cell_type": "code",
   "execution_count": null,
   "id": "5857e29f",
   "metadata": {},
   "outputs": [],
   "source": [
    "import os\n",
    "import cv2\n",
    "import numpy as np\n",
    "import pandas as pd\n",
    "folders=os.listdir('data/')\n",
    "\n",
    "images=[]\n",
    "labels= []\n",
    "for folder in folders:\n",
    "    files=os.listdir('data/'+folder)\n",
    "    for file in files:\n",
    "        img=cv2.imread('data/'+folder+'/'+file, 0)\n",
    "        img=cv2.resize(img,(25,25))\n",
    "        \n",
    "        images.append(img)\n",
    "        labels.append(int(folder))\n",
    "\n",
    "images = np.array(images)\n",
    "features = images.reshape(len(images),-1)"
   ]
  }
 ],
 "metadata": {
  "kernelspec": {
   "display_name": "Python 3 (ipykernel)",
   "language": "python",
   "name": "python3"
  },
  "language_info": {
   "codemirror_mode": {
    "name": "ipython",
    "version": 3
   },
   "file_extension": ".py",
   "mimetype": "text/x-python",
   "name": "python",
   "nbconvert_exporter": "python",
   "pygments_lexer": "ipython3",
   "version": "3.10.8"
  },
  "vscode": {
   "interpreter": {
    "hash": "76d7c06053c3456e5600312cec90888656fc0ed30c03d8425b9dac6e4fc8e014"
   }
  }
 },
 "nbformat": 4,
 "nbformat_minor": 5
}
